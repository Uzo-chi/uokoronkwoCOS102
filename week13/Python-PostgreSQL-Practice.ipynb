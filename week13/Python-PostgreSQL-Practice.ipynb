{
 "cells": [
  {
   "cell_type": "markdown",
   "metadata": {},
   "source": [
    "# Python - PostgreSQL"
   ]
  },
  {
   "cell_type": "markdown",
   "metadata": {},
   "source": [
    "<ul><li>PostgreSQL can be integrated with Python using psycopg2 module.</li><li>psycopg2 is a PostgreSQL database adapter for the Python programming language.</li><li>psycopg2 was written with the aim of being very small and fast, and stable as a rock.</li><li> You do not need to install this module separately because it is shipped, by default, along with Python version 2.5.x onwards.</li></ul>"
   ]
  },
  {
   "cell_type": "markdown",
   "metadata": {},
   "source": [
    "# Python psycopg2 Module APIs\n",
    "\n",
    "If you do not have it installed on your machine then you can use the command to install it as follows:"
   ]
  },
  {
   "cell_type": "code",
   "execution_count": null,
   "metadata": {},
   "outputs": [],
   "source": [
    "pip install psycopg2"
   ]
  },
  {
   "cell_type": "markdown",
   "metadata": {},
   "source": [
    "If the above command causes an error then use the command:"
   ]
  },
  {
   "cell_type": "code",
   "execution_count": null,
   "metadata": {},
   "outputs": [],
   "source": [
    "pip install psycopg2-binary"
   ]
  },
  {
   "cell_type": "markdown",
   "metadata": {},
   "source": [
    "The following are important psycopg2 module routines:"
   ]
  },
  {
   "cell_type": "markdown",
   "metadata": {},
   "source": [
    "<table border=1 style=\"font-size:15px;\">\n",
    "    <tr>\n",
    "        <td width=200><b>APIs</b></td><td width=800><b>Description</b></td>\n",
    "    </tr>\n",
    "    <tr>\n",
    "        <td>psycopg2.connect()</td><td>This API opens a connection to the PostgreSQL database.</td>\n",
    "    </tr>\n",
    "     <tr>\n",
    "        <td>connection.cursor()</td><td>This routine creates a cursor which will be used throughout of your database programming with Python.</td>\n",
    "    </tr>\n",
    "    <tr>\n",
    "        <td>cursor.execute()</td><td>This routine executes an SQL statement. The SQL statement may be parameterized (i.e., placeholders instead of SQL literals).</td>\n",
    "    </tr>\n",
    "     <tr>\n",
    "        <td>connection.close()</td><td>DescriptionThis method closes the database connection.</td>\n",
    "    </tr>\n",
    "    <tr>\n",
    "        <td>cursor.fetchone()</td><td>This method fetches the next row of a query result set, returning a single sequence, or None when no more data is available.</td>\n",
    "    </tr>\n",
    "     <tr>\n",
    "        <td>cursor.fetchall()</td><td>This routine fetches all (remaining) rows of a query result, returning a list. An empty list is returned when no rows are available.</td>\n",
    "    </tr>\n",
    "    <tr>\n",
    "        <td>psycopg2.connect()</td><td>This API opens a connection to the PostgreSQL database.</td>\n",
    "    </tr>\n",
    "</table>"
   ]
  },
  {
   "cell_type": "markdown",
   "metadata": {},
   "source": [
    "# Connecting to a Database"
   ]
  },
  {
   "cell_type": "code",
   "execution_count": 2,
   "metadata": {},
   "outputs": [
    {
     "name": "stdout",
     "output_type": "stream",
     "text": [
      "Connection to PostgreSQL DB successful\n",
      "PostgreSQL database version: ('PostgreSQL 16.1, compiled by Visual C++ build 1937, 64-bit',)\n"
     ]
    }
   ],
   "source": [
    "import psycopg2\n",
    "\n",
    "# Database connection parameters\n",
    "host = \"localhost\"\n",
    "port = \"5432\"\n",
    "dbname = \"cos101_db\"\n",
    "user = \"postgres\"\n",
    "password = \"COS101\"\n",
    "\n",
    "# Establish the connection\n",
    "try:\n",
    "    connection = psycopg2.connect(\n",
    "        host=host,\n",
    "        port=port,\n",
    "        dbname=dbname,\n",
    "        user=user,\n",
    "        password=password\n",
    "    )\n",
    "    print(\"Connection to PostgreSQL DB successful\")\n",
    "\n",
    "    # Create a cursor object\n",
    "    cursor = connection.cursor()\n",
    "\n",
    "    # Execute a SQL query\n",
    "    cursor.execute(\"SELECT version();\")\n",
    "    \n",
    "    # Fetch and print the result of the query\n",
    "    db_version = cursor.fetchone()\n",
    "    print(f\"PostgreSQL database version: {db_version}\")\n",
    "\n",
    "    # Close the cursor and connection\n",
    "    cursor.close()\n",
    "    connection.close()\n",
    "\n",
    "except Exception as error:\n",
    "    print(f\"Error connecting to PostgreSQL DB: {error}\")\n"
   ]
  },
  {
   "cell_type": "markdown",
   "metadata": {},
   "source": [
    "# Selecting existing Database"
   ]
  },
  {
   "cell_type": "code",
   "execution_count": 4,
   "metadata": {},
   "outputs": [
    {
     "name": "stdout",
     "output_type": "stream",
     "text": [
      "Connection to PostgreSQL DB successful\n",
      "column  |  column2\n",
      "------------------------\n",
      "1       |  Chuka\n",
      "2       |  Ethel\n",
      "3       |  Adenike\n",
      "4       |  Hassan\n",
      "5       |  David\n",
      "6       |  Chisom\n"
     ]
    }
   ],
   "source": [
    "import psycopg2\n",
    "\n",
    "# Database connection parameters\n",
    "host = \"localhost\"\n",
    "port = \"5432\"\n",
    "dbname = \"cos101_db\"\n",
    "user = \"postgres\"\n",
    "password = \"COS101\"\n",
    "\n",
    "# Establish the connection\n",
    "try:\n",
    "    connection = psycopg2.connect(\n",
    "        host=host,\n",
    "        port=port,\n",
    "        dbname=dbname,\n",
    "        user=user,\n",
    "        password=password\n",
    "    )\n",
    "    print(\"Connection to PostgreSQL DB successful\")\n",
    "\n",
    "    # Create a cursor object\n",
    "    cursor = connection.cursor()\n",
    "\n",
    "    # Define the SQL SELECT query\n",
    "    select_query = \"SELECT * FROM company;\"\n",
    "\n",
    "    # Execute the query\n",
    "    cursor.execute(select_query)\n",
    "\n",
    "    # Fetch all rows from the executed query\n",
    "    data = cursor.fetchall()\n",
    "\n",
    "    print(\"column\", \" | \", \"column2\")\n",
    "    print(\"------------------------\")\n",
    "        \n",
    "    # Iterate through the rows and print them\n",
    "    for row in data:\n",
    "        print(f\"{row[0]}       |  {row[1]}\")\n",
    "\n",
    "    # Close the cursor and connection\n",
    "    cursor.close()\n",
    "    connection.close()\n",
    "\n",
    "except Exception as error:\n",
    "    print(f\"Error connecting to PostgreSQL DB: {error}\")\n"
   ]
  },
  {
   "cell_type": "markdown",
   "metadata": {},
   "source": [
    "# Create a new Database"
   ]
  },
  {
   "cell_type": "code",
   "execution_count": 8,
   "metadata": {},
   "outputs": [
    {
     "name": "stdout",
     "output_type": "stream",
     "text": [
      "Connection to PostgreSQL server successful\n",
      "Database 'cos102_db' created successfully\n"
     ]
    }
   ],
   "source": [
    "import psycopg2\n",
    "\n",
    "# Parameters to connect to the existing PostgreSQL server\n",
    "host = \"localhost\"\n",
    "port = \"5432\"\n",
    "dbname = \"postgres\"\n",
    "user = \"postgres\"\n",
    "password = \"COS101\"  # Connect to the default database\n",
    "\n",
    "# Name of the new database to be created\n",
    "new_dbname = \"cos102_db\"\n",
    "\n",
    "try:\n",
    "    # Connect to the PostgreSQL server\n",
    "    connection = psycopg2.connect(\n",
    "        host=host,\n",
    "        port=port,\n",
    "        dbname=dbname,\n",
    "        user=user,\n",
    "        password=password\n",
    "    )\n",
    "    connection.autocommit = True  # Enable autocommit mode\n",
    "    print(\"Connection to PostgreSQL server successful\")\n",
    "\n",
    "    # Create a cursor object\n",
    "    cursor = connection.cursor()\n",
    "\n",
    "    # Define the SQL statement to create a new database\n",
    "    create_db_query = f\"CREATE DATABASE {new_dbname}\"\n",
    "\n",
    "    # Execute the SQL statement\n",
    "    cursor.execute(create_db_query)\n",
    "    print(f\"Database '{new_dbname}' created successfully\")\n",
    "\n",
    "    # Close the cursor and connection\n",
    "    cursor.close()\n",
    "    connection.close()\n",
    "\n",
    "except Exception as error:\n",
    "    print(f\"Error creating the database: {error}\")\n"
   ]
  },
  {
   "cell_type": "markdown",
   "metadata": {},
   "source": [
    "# Create a Table"
   ]
  },
  {
   "cell_type": "code",
   "execution_count": 14,
   "metadata": {},
   "outputs": [
    {
     "name": "stdout",
     "output_type": "stream",
     "text": [
      "Connection to PostgreSQL DB successful\n",
      "Table created successfully\n"
     ]
    }
   ],
   "source": [
    "import psycopg2\n",
    "\n",
    "# Database connection parameters\n",
    "host = \"localhost\"\n",
    "port = \"5432\"\n",
    "dbname = \"cos102_db\"\n",
    "user = \"postgres\"\n",
    "password = \"COS101\"\n",
    "\n",
    "try:\n",
    "    # Connect to the PostgreSQL database\n",
    "    connection = psycopg2.connect(\n",
    "        host=host,\n",
    "        port=port,\n",
    "        dbname=dbname,\n",
    "        user=user,\n",
    "        password=password\n",
    "    )\n",
    "    connection.autocommit = True  # Enable autocommit mode\n",
    "    \n",
    "    print(\"Connection to PostgreSQL DB successful\")\n",
    "\n",
    "    # Create a cursor object\n",
    "    cursor = connection.cursor()\n",
    "\n",
    "    # Define the SQL statement to create a new table\n",
    "    create_table_query = \"\"\"\n",
    "    CREATE TABLE sst_info (\n",
    "        id SERIAL PRIMARY KEY,\n",
    "        name VARCHAR(50) NOT NULL,\n",
    "        age INT NOT NULL,\n",
    "        department VARCHAR NOT NULL,\n",
    "        password VARCHAR NOT NULL\n",
    "    );\n",
    "    \"\"\"\n",
    "\n",
    "    # Execute the SQL statement\n",
    "    cursor.execute(create_table_query)\n",
    "    print(\"Table created successfully\")\n",
    "\n",
    "    # Close the cursor and connection\n",
    "    cursor.close()\n",
    "    connection.close()\n",
    "\n",
    "except Exception as error:\n",
    "    print(f\"Error creating table: {error}\")\n"
   ]
  },
  {
   "cell_type": "markdown",
   "metadata": {},
   "source": [
    "# INSERT into Table"
   ]
  },
  {
   "cell_type": "code",
   "execution_count": 15,
   "metadata": {},
   "outputs": [
    {
     "name": "stdout",
     "output_type": "stream",
     "text": [
      "Connection to PostgreSQL DB successful\n",
      "Data inserted successfully\n"
     ]
    }
   ],
   "source": [
    "import psycopg2\n",
    "\n",
    "# Database connection parameters\n",
    "host = \"localhost\"\n",
    "port = \"5432\"\n",
    "dbname = \"cos102_db\"\n",
    "user = \"postgres\"\n",
    "password = \"COS101\"\n",
    "\n",
    "try:\n",
    "    # Connect to the PostgreSQL database\n",
    "    connection = psycopg2.connect(\n",
    "        host=host,\n",
    "        port=port,\n",
    "        dbname=dbname,\n",
    "        user=user,\n",
    "        password=password\n",
    "    )\n",
    "    connection.autocommit = True  # Enable autocommit mode\n",
    "    print(\"Connection to PostgreSQL DB successful\")\n",
    "\n",
    "    # Create a cursor object\n",
    "    cursor = connection.cursor()\n",
    "\n",
    "    # Define the SQL INSERT statement\n",
    "    insert_query = \"\"\"\n",
    "    INSERT INTO sst_info (id, name, age, department, password)\n",
    "    VALUES (%s, %s, %s, %s, %s);\n",
    "    \"\"\"\n",
    "    \n",
    "    # Data to be inserted\n",
    "    data_to_insert = (1, \"Jamel Ojo\", 20, \"Software Engineering\", \"anthelo4\")\n",
    "\n",
    "    # Execute the SQL statement\n",
    "    cursor.execute(insert_query, data_to_insert)\n",
    "    print(\"Data inserted successfully\")\n",
    "\n",
    "    # Close the cursor and connection\n",
    "    cursor.close()\n",
    "    connection.close()\n",
    "\n",
    "except Exception as error:\n",
    "    print(f\"Error inserting data: {error}\")\n"
   ]
  },
  {
   "cell_type": "markdown",
   "metadata": {},
   "source": [
    "# SELECT from Table"
   ]
  },
  {
   "cell_type": "code",
   "execution_count": 22,
   "metadata": {},
   "outputs": [
    {
     "name": "stdout",
     "output_type": "stream",
     "text": [
      "(1, 'Jamel Ojo', 20, 'Software Engineering', 'anthelo4')\n"
     ]
    }
   ],
   "source": [
    "import psycopg2\n",
    "\n",
    "# Define your database connection parameters\n",
    "db_params = {\n",
    "    'dbname': 'cos102_db',\n",
    "    'user': 'postgres',\n",
    "    'password': 'COS101',\n",
    "    'host': 'localhost',\n",
    "    'port': '5432'  # Default is '5432'\n",
    "}\n",
    "\n",
    "try:\n",
    "    # Establish a connection to the database\n",
    "    connection = psycopg2.connect(**db_params)\n",
    "\n",
    "    # Create a cursor object\n",
    "    cursor = connection.cursor()\n",
    "\n",
    "    # Define the SQL query\n",
    "    select_query = \"SELECT * FROM sst_info WHERE age < 30;\"\n",
    "\n",
    "    # Execute the SQL query\n",
    "    cursor.execute(select_query)\n",
    "\n",
    "    # Fetch all the results\n",
    "    results = cursor.fetchall()\n",
    "\n",
    "    # Print the results\n",
    "    for row in results:\n",
    "        print(row)\n",
    "\n",
    "except Exception as error:\n",
    "    print(f\"Error while connecting to PostgreSQL: {error}\")\n",
    "\n",
    "finally:\n",
    "    # Close the cursor and connection to clean up\n",
    "    if cursor:\n",
    "        cursor.close()\n",
    "    if connection:\n",
    "        connection.close()\n"
   ]
  },
  {
   "cell_type": "markdown",
   "metadata": {},
   "source": [
    "# Class Project I"
   ]
  },
  {
   "cell_type": "markdown",
   "metadata": {},
   "source": [
    "Paystack is a Nigerian financial technology company that offers payment processing services to businesses. As a technology company, Paystack solves payment problems for ambitious businesses. Its mission is to help businesses in Africa become profitable, envied, and loved. They make it easy for businesses to accept secure payments from multiple local and global payment channels. They also provide tools to help you retain and acquire new customers. Currently, Paystack is restructuring the team network. It is a diverse, close-knit team on an adventure to build something enduring while learning something new, every day. \n",
    "\n"
   ]
  },
  {
   "cell_type": "markdown",
   "metadata": {},
   "source": [
    "<img src=\"paystack.jpg\">"
   ]
  },
  {
   "cell_type": "markdown",
   "metadata": {},
   "source": [
    "With your knowledge in python programming develop an application that creates the database named <b>Paystack_Team</b>. <br>The purpose of the application is to enable management to perform the following queries:\n",
    "<ul>\n",
    "    <li>Team Members in Revenue Division</li>\n",
    "    <li>Team Members in Growth and Product Division whose age is greater than 30 years but less than 35 years</li>\n",
    "    <li>Team Members in Modules 1,3 and 5</li>\n",
    "    <li>Team Members in Modules 4 and Product Division</li>\n",
    "</ul>"
   ]
  },
  {
   "cell_type": "code",
   "execution_count": 23,
   "metadata": {},
   "outputs": [
    {
     "name": "stdout",
     "output_type": "stream",
     "text": [
      "Connection to Postgres server successful\n",
      "Database 'Paystack_Team' created successfully!\n"
     ]
    }
   ],
   "source": [
    "import psycopg2\n",
    "\n",
    "dbname = 'postgres'\n",
    "user = 'postgres'\n",
    "password = 'COS101'\n",
    "host = 'localhost'\n",
    "port = '5432'\n",
    "\n",
    "\n",
    "newDB = 'Paystack_Team'\n",
    "\n",
    "try:\n",
    "    connection = psycopg2.connect(\n",
    "        dbname=dbname,\n",
    "        user=user,\n",
    "        password=password,\n",
    "        host=host,\n",
    "        port=port\n",
    "    )\n",
    "    \n",
    "    connection.autocommit = True\n",
    "    print(\"Connection to Postgres server successful\")\n",
    "    \n",
    "    cursor = connection.cursor()\n",
    "    \n",
    "    create_db = f\"CREATE DATABASE {newDB}\"\n",
    "    \n",
    "    cursor.execute(create_db)\n",
    "    print(f\"Database '{newDB}' created successfully!\")\n",
    "    \n",
    "    cursor.close()\n",
    "    connection.close()\n",
    "except Exception as error:\n",
    "    print(f\"Error creation the database: {error}\")"
   ]
  },
  {
   "cell_type": "code",
   "execution_count": 26,
   "metadata": {},
   "outputs": [
    {
     "name": "stdout",
     "output_type": "stream",
     "text": [
      "Connection to Postgres server successful\n",
      "Table 'employee' created successfully!\n"
     ]
    }
   ],
   "source": [
    "import psycopg2\n",
    "\n",
    "dbname = 'paystack_team'\n",
    "user = 'postgres'\n",
    "password = 'COS101'\n",
    "host = 'localhost'\n",
    "port = '5432'\n",
    "\n",
    "try:\n",
    "    connection = psycopg2.connect(\n",
    "        dbname=dbname,\n",
    "        user=user,\n",
    "        password=password,\n",
    "        host=host,\n",
    "        port=port\n",
    "    )\n",
    "    \n",
    "    connection.autocommit = True\n",
    "    print(\"Connection to Postgres server successful\")\n",
    "    \n",
    "    cursor = connection.cursor()\n",
    "    \n",
    "    create_table = \"\"\"\n",
    "    CREATE TABLE employee (\n",
    "        sn SERIAL primary key,\n",
    "        name VARCHAR(50) not null,\n",
    "        division varchar not null,\n",
    "        age int not null,\n",
    "        module int not null\n",
    "    );\n",
    "    \"\"\"\n",
    "    \n",
    "    cursor.execute(create_table)\n",
    "    print(\"Table 'employee' created successfully!\")\n",
    "    \n",
    "    cursor.close()\n",
    "    connection.close()\n",
    "except Exception as error:\n",
    "    print(f\"Error creating table: {error}\")"
   ]
  },
  {
   "cell_type": "code",
   "execution_count": 27,
   "metadata": {},
   "outputs": [
    {
     "name": "stdout",
     "output_type": "stream",
     "text": [
      "Connection to Postgres server successful\n",
      "Data inserted successfully\n"
     ]
    }
   ],
   "source": [
    "import psycopg2\n",
    "\n",
    "dbname = 'paystack_team'\n",
    "user = 'postgres'\n",
    "password = 'COS101'\n",
    "host = 'localhost'\n",
    "port = '5432'\n",
    "\n",
    "try:\n",
    "    connection = psycopg2.connect(\n",
    "        dbname=dbname,\n",
    "        user=user,\n",
    "        password=password,\n",
    "        host=host,\n",
    "        port=port\n",
    "    )\n",
    "    \n",
    "    connection.autocommit = True\n",
    "    print(\"Connection to Postgres server successful\")\n",
    "    \n",
    "    cursor = connection.cursor()\n",
    "    \n",
    "    insert_statement = \"\"\"\n",
    "    INSERT INTO employee (sn, name, division, age, module)\n",
    "    VALUES (%s, %s, %s, %s, %s)\n",
    "    \"\"\"\n",
    "    \n",
    "    data = [(1, 'Oyinda Aina', 'Business', 32, 1),\n",
    "            (2, 'Wale Eseyin', 'Engineering', 28, 3),\n",
    "            (3, 'Khadijah Abu', 'Product', 30, 2),\n",
    "            (4, 'Onyedikachi Mbaike', 'Design', 37, 5),\n",
    "            (5, 'Seike Ibojo', 'Growth', 33, 4),\n",
    "            (6, 'Opemipo Aikomo', 'Design', 28, 1),\n",
    "            (7, 'Ezra Olubi', 'Product', 30, 3),\n",
    "            (8, 'Alexander Fasoro', 'Engineering', 35, 1),\n",
    "            (9, 'Stephen Amaza', 'Growth', 40, 2),\n",
    "            (10, 'Loknan Nanyak', 'Engineering', 44, 5),\n",
    "            (11, 'Ibrahim Lawal', 'Engineering', 39, 4),\n",
    "            (12, 'Fisayo Kolawole', 'Commercial', 27, 5),\n",
    "            (13, 'Emmanuel Quartey', 'Growth', 31, 1),\n",
    "            (14, 'Awatt Bassey', 'Growth', 32, 2),\n",
    "            (15, 'Bolaji Akande', 'Revenue', 30, 3),\n",
    "            (16, 'Mohini Ufeli', 'Growth', 29, 1),\n",
    "            (17, 'King Makanjuola', 'Product', 31, 4),\n",
    "            (18, 'Ijeoma Opara', 'Revenue', 26, 2),\n",
    "            (19, 'Dipo Omobomi', 'Product', 32, 5),\n",
    "            (20, 'Dapo Awobokun', 'Revenue', 35, 3),\n",
    "            (21, 'Charles Idem', 'Revenue', 38, 1),\n",
    "            (22, 'Ayobami Alo', 'Product', 34, 4),\n",
    "            (23, 'Aminat Badara', 'Growth', 30, 2)\n",
    "            ]\n",
    "    \n",
    "    for datum in data:\n",
    "        cursor.execute(insert_statement, datum)\n",
    "    print(\"Data inserted successfully\")\n",
    "    \n",
    "    cursor.close()\n",
    "    connection.close()\n",
    "    \n",
    "except Exception as error:\n",
    "    print(f\"Error inserting data: {error}\")"
   ]
  },
  {
   "cell_type": "code",
   "execution_count": 29,
   "metadata": {},
   "outputs": [
    {
     "name": "stdout",
     "output_type": "stream",
     "text": [
      "\n",
      "Revenue Division\n",
      "\n",
      "('Bolaji Akande', 'Revenue')\n",
      "('Ijeoma Opara', 'Revenue')\n",
      "('Dapo Awobokun', 'Revenue')\n",
      "('Charles Idem', 'Revenue')\n",
      "\n",
      "Age between 30 and 35\n",
      "\n",
      "('Oyinda Aina', 32)\n",
      "('Seike Ibojo', 33)\n",
      "('Emmanuel Quartey', 31)\n",
      "('Awatt Bassey', 32)\n",
      "('King Makanjuola', 31)\n",
      "('Dipo Omobomi', 32)\n",
      "('Ayobami Alo', 34)\n",
      "\n",
      "Module 1, 3, and 5\n",
      "\n",
      "('Oyinda Aina', 1)\n",
      "('Wale Eseyin', 3)\n",
      "('Onyedikachi Mbaike', 5)\n",
      "('Opemipo Aikomo', 1)\n",
      "('Ezra Olubi', 3)\n",
      "('Alexander Fasoro', 1)\n",
      "('Loknan Nanyak', 5)\n",
      "('Fisayo Kolawole', 5)\n",
      "('Emmanuel Quartey', 1)\n",
      "('Bolaji Akande', 3)\n",
      "('Mohini Ufeli', 1)\n",
      "('Dipo Omobomi', 5)\n",
      "('Dapo Awobokun', 3)\n",
      "('Charles Idem', 1)\n",
      "\n",
      "Module 4 and Product Division\n",
      "\n",
      "('King Makanjuola', 'Product', 4)\n",
      "('Ayobami Alo', 'Product', 4)\n"
     ]
    }
   ],
   "source": [
    "import psycopg2\n",
    "\n",
    "db_params = {\n",
    "    'dbname': 'paystack_team',\n",
    "    'user': 'postgres',\n",
    "    'password': 'COS101',\n",
    "    'host': 'localhost',\n",
    "    'port': '5432'\n",
    "}\n",
    "\n",
    "try:\n",
    "    connection = psycopg2.connect(**db_params)\n",
    "    \n",
    "    connection.autocommit = True\n",
    "    \n",
    "    cursor = connection.cursor()\n",
    "    \n",
    "    revenue_query = \"SELECT name, division FROM employee WHERE division='Revenue';\"\n",
    "    age_query = \"SELECT name, age FROM employee WHERE age > 30 AND age < 35;\"\n",
    "    module_query = \"SELECT name, module FROM employee WHERE module IN (1, 3, 5);\"\n",
    "    module2_query = \"SELECT name, division, module FROM employee WHERE module=4 AND division='Product'\"\n",
    "    \n",
    "    cursor.execute(revenue_query)\n",
    "    results = cursor.fetchall()\n",
    "    print(\"\\nRevenue Division\\n\")\n",
    "    for row in results:\n",
    "        print(row)\n",
    "        \n",
    "    cursor.execute(age_query)\n",
    "    results = cursor.fetchall()\n",
    "    print(\"\\nAge between 30 and 35\\n\")\n",
    "    for row in results:\n",
    "        print(row)\n",
    "        \n",
    "    cursor.execute(module_query)\n",
    "    results = cursor.fetchall()\n",
    "    print(\"\\nModule 1, 3, and 5\\n\")\n",
    "    for row in results:\n",
    "        print(row)\n",
    "        \n",
    "    cursor.execute(module2_query)\n",
    "    results = cursor.fetchall()\n",
    "    print(\"\\nModule 4 and Product Division\\n\")\n",
    "    for row in results:\n",
    "        print(row)\n",
    "except Exception as error:\n",
    "    print(f\"\\nError selecting data: {error}\")"
   ]
  }
 ],
 "metadata": {
  "kernelspec": {
   "display_name": "Python 3",
   "language": "python",
   "name": "python3"
  },
  "language_info": {
   "codemirror_mode": {
    "name": "ipython",
    "version": 3
   },
   "file_extension": ".py",
   "mimetype": "text/x-python",
   "name": "python",
   "nbconvert_exporter": "python",
   "pygments_lexer": "ipython3",
   "version": "3.12.0"
  }
 },
 "nbformat": 4,
 "nbformat_minor": 4
}
