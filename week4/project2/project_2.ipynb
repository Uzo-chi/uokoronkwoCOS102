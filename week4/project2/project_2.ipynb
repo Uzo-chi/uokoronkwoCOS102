{
 "cells": [
  {
   "cell_type": "code",
   "execution_count": 1,
   "metadata": {},
   "outputs": [
    {
     "name": "stdout",
     "output_type": "stream",
     "text": [
      "Your Annual Tax Revenue (ATR) is N1,500,00\n"
     ]
    }
   ],
   "source": [
    "year = int(input(\"How may years have you worked here? \"))\n",
    "age = int(input(\"How old are you? \"))\n",
    "\n",
    "if year > 25 and age >= 55:\n",
    "    atr = \"N5,600,000\"\n",
    "elif year > 20 and age >= 45:\n",
    "    atr = \"N4,480,000\"\n",
    "elif year > 10 and age >= 35:\n",
    "    atr = \"N1,500,00\"\n",
    "else:\n",
    "    atr = \"N550,000\"\n",
    "    \n",
    "print(f\"Your Annual Tax Revenue (ATR) is {atr}\")"
   ]
  }
 ],
 "metadata": {
  "kernelspec": {
   "display_name": "Python 3",
   "language": "python",
   "name": "python3"
  },
  "language_info": {
   "codemirror_mode": {
    "name": "ipython",
    "version": 3
   },
   "file_extension": ".py",
   "mimetype": "text/x-python",
   "name": "python",
   "nbconvert_exporter": "python",
   "pygments_lexer": "ipython3",
   "version": "3.12.0"
  }
 },
 "nbformat": 4,
 "nbformat_minor": 2
}
