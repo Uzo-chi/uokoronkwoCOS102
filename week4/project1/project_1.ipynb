{
 "cells": [
  {
   "cell_type": "code",
   "execution_count": 3,
   "metadata": {},
   "outputs": [
    {
     "name": "stdout",
     "output_type": "stream",
     "text": [
      "\n",
      "                      GIRLS                       \n",
      "NAME                 | AGE        | HEIGHT     | SCORE     \n",
      "Evelyn               | 17         | 5.5        | 80        \n",
      "Jessica              | 16         | 6.0        | 85        \n",
      "Somto                | 17         | 5.4        | 70        \n",
      "Edith                | 18         | 5.9        | 60        \n"
     ]
    }
   ],
   "source": [
    "girls = {'names': [], 'ages': [], 'heights': [], 'scores': []}\n",
    "boys = {'names': [], 'ages': [], 'heights': [], 'scores': []}\n",
    "\n",
    "while True:\n",
    "    name = input(\"\\nEnter student's name (Enter 'q' to quit): \")\n",
    "    \n",
    "    if name == 'q':\n",
    "        break\n",
    "    \n",
    "    age = int(input(\"How old is the student? \"))\n",
    "    height = float(input(\"What is the student's height (in feet): \"))\n",
    "    score = int(input(\"What is the student's grade? (Out of 100): \"))\n",
    "    gender = input(\"Is the student a boy or girl? (Enter 'b' or 'g')\")\n",
    "    \n",
    "    if gender == 'b':\n",
    "        boys['names'].append(name)\n",
    "        boys['ages'].append(age)\n",
    "        boys['heights'].append(height)\n",
    "        boys['scores'].append(score)\n",
    "    elif gender == 'g':\n",
    "        girls['names'].append(name)\n",
    "        girls['ages'].append(age)\n",
    "        girls['heights'].append(height)\n",
    "        girls['scores'].append(score)\n",
    "    else:\n",
    "        print(\"\\nYou're not serious! NEXT!!!\")\n",
    "        continue\n",
    "\n",
    "if boys['names']:\n",
    "    print(f\"\\n{\"BOYS\":^50}\")\n",
    "    print(f\"{\"NAME\":<20} | {\"AGE\":<10} | {\"HEIGHT\":<10} | {\"SCORE\":<10}\")\n",
    "    for i in range(len(boys['names'])):\n",
    "        print(f\"{boys['names'][i]:<20} | {boys['ages'][i]:<10} | {boys['heights'][i]:<10} | {boys['scores'][i]:<10}\")\n",
    "\n",
    "if girls['names']:\n",
    "    print(f\"\\n{\"GIRLS\":^50}\")\n",
    "    print(f\"{\"NAME\":<20} | {\"AGE\":<10} | {\"HEIGHT\":<10} | {\"SCORE\":<10}\")\n",
    "    for i in range(len(girls['names'])):\n",
    "        print(f\"{girls['names'][i]:<20} | {girls['ages'][i]:<10} | {girls['heights'][i]:<10} | {girls['scores'][i]:<10}\")"
   ]
  }
 ],
 "metadata": {
  "kernelspec": {
   "display_name": "Python 3",
   "language": "python",
   "name": "python3"
  },
  "language_info": {
   "codemirror_mode": {
    "name": "ipython",
    "version": 3
   },
   "file_extension": ".py",
   "mimetype": "text/x-python",
   "name": "python",
   "nbconvert_exporter": "python",
   "pygments_lexer": "ipython3",
   "version": "3.12.0"
  }
 },
 "nbformat": 4,
 "nbformat_minor": 2
}
