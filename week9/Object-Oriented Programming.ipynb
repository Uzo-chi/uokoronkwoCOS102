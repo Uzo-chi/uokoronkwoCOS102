{
 "cells": [
  {
   "cell_type": "markdown",
   "metadata": {},
   "source": [
    "# Object Oriented Programming Concepts\n",
    "<ul>\n",
    "    <li>Python is an object-oriented programming language. Unlike procedure-oriented programming, where the main emphasis is on functions, object-oriented programming stresses on objects.</li><li>\n",
    "\n",
    "An object is simply a collection of data (variables) and methods (functions) that act on those data. Similarly, a class is a blueprint for that object.</li><li>\n",
    "\n",
    "We can think of a class as a sketch (prototype) of a house. It contains all the details about the floors, doors, windows, etc. Based on these descriptions we build the house. House is the object.</li><li>\n",
    "\n",
    "As many houses can be made from a house's blueprint, we can create many objects from a class. </li><li>Object-oriented Programming (OOPs) is a programming paradigm that uses objects and classes in programming.</li>\n",
    "    <li> \n",
    "It aims to implement real-world entities like inheritance, polymorphisms, encapsulation, etc. in the programming.</li>\n",
    "    <li>\n",
    "The main concept of OOPs is to bind the data and the functions that work on that together as a single unit so that no other part of the code can access this data. </li></ul>"
   ]
  },
  {
   "cell_type": "markdown",
   "metadata": {},
   "source": [
    "# Main Concepts of OOP\n",
    "   <ul><li> Class</li>\n",
    "    <li>\n",
    "Objects</li>\n",
    "    <li>\n",
    "Polymorphism</li>\n",
    "    <li>\n",
    "Encapsulation</li>\n",
    "    <li>\n",
    "Inheritance</li></ul>"
   ]
  },
  {
   "cell_type": "markdown",
   "metadata": {},
   "source": [
    "## Class\n",
    "<ul><li>A class is a collection of objects.</li><li> A class contains the blueprints or the prototype from which the objects are being created. </li><li>It is a logical entity that contains some attributes and methods. </li></ul>\n",
    "\n",
    "Let's take an example:<br><br>\n",
    "<img src=\"class.jpg\" align=\"left\">\n",
    "A parrot is an object, as it has the following properties:\n",
    "\n",
    "<ul><li>name, age, color as attributes</li><li>\n",
    "singing, dancing as behavior</li></ul>\n"
   ]
  },
  {
   "cell_type": "markdown",
   "metadata": {},
   "source": [
    "### Some points on Python class:  \n",
    "\n",
    "<ul><li>Classes are created by keyword class.</li><li>\n",
    "Attributes are the variables that belong to a class.</li><li>\n",
    "Attributes are always public and can be accessed using the dot (.) operator. Eg.: Myclass.Myattribute</li></ul>\n",
    "The concept of OOP in Python focuses on creating reusable code. This concept is also known as DRY (Don't Repeat Yourself)."
   ]
  },
  {
   "cell_type": "markdown",
   "metadata": {},
   "source": [
    "### Creating an empty class"
   ]
  },
  {
   "cell_type": "code",
   "execution_count": 1,
   "metadata": {},
   "outputs": [],
   "source": [
    "# A Python program to\n",
    "# demonstrate defining\n",
    "# a class\n",
    "\n",
    "class Parrot():\n",
    "    pass"
   ]
  },
  {
   "cell_type": "markdown",
   "metadata": {},
   "source": [
    "## Objects\n",
    "<ul><li>The object is an entity that has a state and behavior associated with it.</li><li> It may be any real-world object like a mouse, keyboard, chair, table, pen, etc.</li><li> Integers, strings, floating-point numbers, even arrays, and dictionaries, are all objects.</li><li> You’ve been using objects all along and may not even realize it.</li></ul>"
   ]
  },
  {
   "cell_type": "markdown",
   "metadata": {},
   "source": [
    "### An object consists of :\n",
    "\n",
    "<img src=\"objects.jpg\" width=\"300\" height=\"360\" align=\"left\">\n",
    "\n",
    "<ul><li><b>State:</b> It is represented by the attributes of an object. It also reflects the properties of an object.</li><li>\n",
    "<b>Behavior:</b> It is represented by the methods of an object. It also reflects the response of an object to other objects.</li><li>\n",
    "<b>Identity:</b> It gives a unique name to an object and enables one object to interact with other objects.</li></ul>"
   ]
  },
  {
   "cell_type": "markdown",
   "metadata": {},
   "source": [
    "### Creating an object \n",
    "<ul><li>An object (instance) is an instantiation of a class.</li><li> When class is defined, only the description for the object is defined. Therefore, no memory or storage is allocated.</li></ul>"
   ]
  },
  {
   "cell_type": "code",
   "execution_count": 3,
   "metadata": {},
   "outputs": [],
   "source": [
    "obj = Parrot()"
   ]
  },
  {
   "cell_type": "markdown",
   "metadata": {},
   "source": [
    "### Declaring an object"
   ]
  },
  {
   "cell_type": "code",
   "execution_count": 2,
   "metadata": {},
   "outputs": [
    {
     "name": "stdout",
     "output_type": "stream",
     "text": [
      "mammal\n",
      "I'm a mammal\n",
      "I'm a dog\n"
     ]
    }
   ],
   "source": [
    "# Python program to\n",
    "# demonstrate instantiating\n",
    "# a class\n",
    "\n",
    "\n",
    "class Dog():\n",
    "\n",
    "    # A simple class\n",
    "    # attribute\n",
    "    attr1 = \"mammal\"\n",
    "    attr2 = \"dog\"\n",
    "\n",
    "    # A class method\n",
    "    def fun(self):\n",
    "        print(\"I'm a\", self.attr1)\n",
    "        print(\"I'm a\", self.attr2)\n",
    "\n",
    "# Object instantiation\n",
    "Rodger = Dog()\n",
    "\n",
    "# Accessing class attributes\n",
    "# and method through objects\n",
    "\n",
    "print(Rodger.attr1)\n",
    "Rodger.fun()\n"
   ]
  },
  {
   "cell_type": "markdown",
   "metadata": {},
   "source": [
    "### Understanding some basic keywords\n"
   ]
  },
  {
   "cell_type": "markdown",
   "metadata": {},
   "source": [
    "#### The self\n",
    "<ul><li><b>self</b> represents the instance of the class. By using the <b>“self”</b>  we can access the attributes and methods of the class in python. It binds the attributes with the given arguments.</li><li> Python decided to do methods in a way that makes the instance to which the method belongs be passed automatically, but not received automatically: the first parameter of methods is the instance the method is called on.</li><li>\n",
    "    Class methods must have an extra first parameter in the method definition. We do not give a value for this parameter when we call the method, Python provides it.</li><li>\n",
    "If we have a method that takes no arguments, then we still have to have one argument.</li><li>\n",
    "This is similar to this pointer in C++ and this reference in Java.</li></ul>"
   ]
  },
  {
   "cell_type": "markdown",
   "metadata": {},
   "source": [
    "### Characteristics of SELF\n",
    "#### <ul><li>Self is always pointing to Current Object.</li></ul>"
   ]
  },
  {
   "cell_type": "code",
   "execution_count": 3,
   "metadata": {},
   "outputs": [
    {
     "name": "stdout",
     "output_type": "stream",
     "text": [
      "Address of self =  2056820324064\n",
      "Address of class object =  2056820324064\n"
     ]
    }
   ],
   "source": [
    "# It is clearly seen that self and obj is referring to the same object\n",
    "\n",
    "class check_:\n",
    "    def __init__(self):\n",
    "        print(\"Address of self = \",id(self))\n",
    "\n",
    "obj = check_()\n",
    "print(\"Address of class object = \",id(obj))\n"
   ]
  },
  {
   "cell_type": "code",
   "execution_count": 4,
   "metadata": {},
   "outputs": [
    {
     "name": "stdout",
     "output_type": "stream",
     "text": [
      "Model is Toyota Corolla\n",
      "color is blue\n",
      "Model is Kia Cerato\n",
      "color is green\n"
     ]
    }
   ],
   "source": [
    "# Another example using SELF\n",
    "\n",
    "class car():\n",
    "\n",
    "    # init method or constructor\n",
    "    def __init__(self, model, color):\n",
    "        self.model = model\n",
    "        self.color = color\n",
    "\n",
    "    def show(self):\n",
    "        print(\"Model is\", self.model )\n",
    "        print(\"color is\", self.color )\n",
    "\n",
    "\n",
    "toyota = car(\"Toyota Corolla\", \"blue\")\n",
    "kia = car(\"Kia Cerato\", \"green\")\n",
    "\n",
    "toyota.show() # same output as car.show(toyota)\n",
    "kia.show() # same output as car.show(kia)\n",
    "\n"
   ]
  },
  {
   "cell_type": "markdown",
   "metadata": {},
   "source": [
    "#### <ul><li>Self is the first argument to be passed in Constructor and Instance Method.</li></ul>"
   ]
  },
  {
   "cell_type": "code",
   "execution_count": 5,
   "metadata": {},
   "outputs": [
    {
     "name": "stdout",
     "output_type": "stream",
     "text": [
      "This is Constructor\n",
      "Worked fine\n"
     ]
    }
   ],
   "source": [
    "# Self is always required as the first argument\n",
    "class check:\n",
    "    def __init__(self):\n",
    "        print(\"This is Constructor\")\n",
    "\n",
    "object = check()\n",
    "print(\"Worked fine\")"
   ]
  },
  {
   "cell_type": "markdown",
   "metadata": {},
   "source": [
    "#### <ul><li>Self is a convention and not a Python keyword.</li></ul>"
   ]
  },
  {
   "cell_type": "code",
   "execution_count": 6,
   "metadata": {},
   "outputs": [
    {
     "name": "stdout",
     "output_type": "stream",
     "text": [
      "we have used another parameter name in place of self\n"
     ]
    }
   ],
   "source": [
    "# Write Python3 code here\n",
    "\n",
    "class this_is_class:\n",
    "    def __init__(in_place_of_self):\n",
    "        print(\"we have used another \"\n",
    "        \"parameter name in place of self\")\n",
    "\n",
    "object = this_is_class()\n"
   ]
  },
  {
   "cell_type": "markdown",
   "metadata": {},
   "source": [
    "### The __ __init__ __ method \n",
    "<ul><li>The __init__ method is similar to constructors in C++ and Java. </li><li>It is run as soon as an object of a class is instantiated. </li><li>The method is useful to do any initialization you want to do with your object. </li>\n",
    "    <li>Constructors are used to initialize the object’s state. The task of constructors is to initialize(assign values) to the data members of the class when an object of class is created. Like methods, a constructor also contains collection of statements(i.e. instructions) that are executed at time of Object creation. It is run as soon as an object of a class is instantiated. The method is useful to do any initialization you want to do with your object.</li></ul>"
   ]
  },
  {
   "cell_type": "code",
   "execution_count": 7,
   "metadata": {},
   "outputs": [
    {
     "name": "stdout",
     "output_type": "stream",
     "text": [
      "Hello, my name is Hans Madugu\n"
     ]
    }
   ],
   "source": [
    "# A class with init method\n",
    "\n",
    "class Person:\n",
    "\n",
    "    # init method or constructor\n",
    "    def __init__(self, name):\n",
    "        self.name = name\n",
    "\n",
    "    # Method\n",
    "    def say_hi(self):\n",
    "        print('Hello, my name is', self.name)\n",
    "\n",
    "p = Person('Hans Madugu')\n",
    "p.say_hi()\n"
   ]
  },
  {
   "cell_type": "code",
   "execution_count": 8,
   "metadata": {},
   "outputs": [
    {
     "name": "stdout",
     "output_type": "stream",
     "text": [
      "Hello, my name is Enobasi\n",
      "Hello, my name is Leela\n",
      "Hello, my name is Divine\n"
     ]
    }
   ],
   "source": [
    "# Another class with init method\n",
    "class Person:\n",
    "\n",
    "    # init method or constructor\n",
    "    def __init__(self, name):\n",
    "        self.name = name\n",
    "\n",
    "    # Method\n",
    "    def say_hi(self):\n",
    "        print('Hello, my name is', self.name)\n",
    "\n",
    "# Creating different objects\n",
    "\n",
    "p1 = Person('Enobasi')\n",
    "p2 = Person('Leela')\n",
    "p3 = Person('Divine')\n",
    "\n",
    "p1.say_hi()\n",
    "p2.say_hi()\n",
    "p3.say_hi()\n"
   ]
  },
  {
   "cell_type": "markdown",
   "metadata": {},
   "source": [
    "### Constructors in Python\n",
    "<ul><li>Constructors are generally used for instantiating an object.</li><li>The task of constructors is to initialize(assign values) to the data members of the class when an object of the class is created.</li><li> In Python the __init__() method is called the constructor and is always called when an object is created.</li></ul>"
   ]
  },
  {
   "cell_type": "markdown",
   "metadata": {},
   "source": [
    "### Types of constructors : \n",
    "\n",
    "<ul><li><b>default constructor:</b> The default constructor is a simple constructor which doesn’t accept any arguments. Its definition has only one argument which is a reference to the instance being constructed.</li><li>\n",
    "    <b>parameterized constructor:</b> constructor with parameters is known as parameterized constructor. The parameterized constructor takes its first argument as a reference to the instance being constructed known as self and the rest of the arguments are provided by the programmer.</li></ul>"
   ]
  },
  {
   "cell_type": "markdown",
   "metadata": {},
   "source": [
    "#### Default Constructor"
   ]
  },
  {
   "cell_type": "code",
   "execution_count": 9,
   "metadata": {},
   "outputs": [
    {
     "name": "stdout",
     "output_type": "stream",
     "text": [
      "CSC 102 - Introduction to Problem Solving\n"
     ]
    }
   ],
   "source": [
    "class Program:\n",
    "\n",
    "    # default constructor\n",
    "    def __init__(self):\n",
    "        self.course = \"CSC 102 - Introduction to Problem Solving\"\n",
    "\n",
    "    # a method for printing data members\n",
    "    def print_Course(self):\n",
    "        print(self.course)\n",
    "\n",
    "\n",
    "# creating object of the class\n",
    "obj = Program()\n",
    "\n",
    "# calling the instance method using the object obj\n",
    "obj.print_Course()\n"
   ]
  },
  {
   "cell_type": "markdown",
   "metadata": {},
   "source": [
    "#### Parameterized Constructor"
   ]
  },
  {
   "cell_type": "code",
   "execution_count": 10,
   "metadata": {},
   "outputs": [
    {
     "name": "stdout",
     "output_type": "stream",
     "text": [
      "First number = 23\n",
      "Second number = 40\n",
      "Addition of two numbers = 63\n"
     ]
    }
   ],
   "source": [
    "class Addition:\n",
    "    first = 0\n",
    "    second = 0\n",
    "    answer = 0\n",
    "    \n",
    "    # parameterized constructor\n",
    "    def __init__(self, f, s):\n",
    "        self.first = f\n",
    "        self.second = s\n",
    "\n",
    "    def display(self):\n",
    "        print(\"First number = \" + str(self.first))\n",
    "        print(\"Second number = \" + str(self.second))\n",
    "        print(\"Addition of two numbers = \" + str(self.answer))\n",
    "\n",
    "    def calculate(self):\n",
    "        self.answer = self.first + self.second\n",
    "\n",
    "# creating object of the class\n",
    "# this will invoke parameterized constructor\n",
    "num1 = int(input(\"Enter first number: \"))\n",
    "num2 = int(input(\"Enter second number: \"))\n",
    "obj = Addition(num1, num2)\n",
    "\n",
    "# perform Addition\n",
    "obj.calculate()\n",
    "\n",
    "# display result\n",
    "obj.display()\n"
   ]
  },
  {
   "cell_type": "markdown",
   "metadata": {},
   "source": [
    "### Creating a class and object with class and instance attributes"
   ]
  },
  {
   "cell_type": "code",
   "execution_count": 11,
   "metadata": {},
   "outputs": [
    {
     "name": "stdout",
     "output_type": "stream",
     "text": [
      "Oscar is a mammal\n",
      "Peaches is also a mammal\n",
      "My name is Oscar\n",
      "My name is Peaches\n"
     ]
    }
   ],
   "source": [
    "class Dogs:\n",
    "\n",
    "    # class attribute\n",
    "    attr1 = \"mammal\"\n",
    "\n",
    "    # Instance attribute\n",
    "    def __init__(self, name):\n",
    "        self.name = name\n",
    "\n",
    "# Object instantiation\n",
    "dog1 = Dogs(\"Oscar\")\n",
    "dog2 = Dogs(\"Peaches\")\n",
    "\n",
    "# Accessing class attributes\n",
    "print(\"Oscar is a {}\".format(dog1.__class__.attr1))\n",
    "print(\"Peaches is also a {}\".format(dog2.__class__.attr1))\n",
    "\n",
    "# Accessing instance attributes\n",
    "print(\"My name is {}\".format(dog1.name))\n",
    "print(\"My name is {}\".format(dog2.name))\n"
   ]
  },
  {
   "cell_type": "markdown",
   "metadata": {},
   "source": [
    "### Creating Class and objects with methods"
   ]
  },
  {
   "cell_type": "code",
   "execution_count": 13,
   "metadata": {},
   "outputs": [
    {
     "name": "stdout",
     "output_type": "stream",
     "text": [
      "My name is Marigold\n",
      "I'm studying Computer Science\n",
      "My name is Hazel\n",
      "I'm studying Computer Science\n"
     ]
    }
   ],
   "source": [
    "class SST:\n",
    "\n",
    "    # class attribute\n",
    "    prog1 = \"Computer Science\"\n",
    "\n",
    "    # Instance attribute\n",
    "    def __init__(self, name):\n",
    "        self.name = name\n",
    "\n",
    "    def speak(self):\n",
    "        print(\"My name is {}\".format(self.name))\n",
    "        print(\"I'm studying {}\".format(stud1.__class__.prog1))\n",
    "\n",
    "# Object instantiation\n",
    "stud1 = SST(input(\"Enter the name of the first student: \"))\n",
    "stud2 = SST(input(\"Enter the name of the second student: \"))\n",
    "\n",
    "# Accessing class methods\n",
    "stud1.speak()\n",
    "stud2.speak()\n"
   ]
  },
  {
   "cell_type": "markdown",
   "metadata": {},
   "source": [
    "### Class and Instance Variables\n",
    "<ul><li>Instance variables are for data unique to each instance and class variables are for attributes and methods shared by all instances of the class.</li><li> Instance variables are variables whose value is assigned inside a constructor or method with self, whereas class variables are variables whose value is assigned in the class.</li></ul>"
   ]
  },
  {
   "cell_type": "code",
   "execution_count": 14,
   "metadata": {},
   "outputs": [
    {
     "name": "stdout",
     "output_type": "stream",
     "text": [
      "Rodger details:\n",
      "Rodger is a dog\n",
      "Breed:  Pug\n",
      "Color:  brown\n",
      "\n",
      "Buzo details:\n",
      "Buzo is a dog\n",
      "Breed:  Bulldog\n",
      "Color:  black\n",
      "\n",
      "Accessing class variable using class name\n",
      "dog\n"
     ]
    }
   ],
   "source": [
    "# A Python program to show that the variables with a value\n",
    "# assigned in the class declaration, are class variables and\n",
    "# variables inside methods and constructors are instance\n",
    "# variables.\n",
    "\n",
    "# Class for Dog\n",
    "class Dog:\n",
    "\n",
    "    # Class Variable\n",
    "    animal = 'dog'\n",
    "\n",
    "    # The init method or constructor\n",
    "    def __init__(self, breed, color):\n",
    "    \n",
    "        # Instance Variable\n",
    "        self.breed = breed\n",
    "        self.color = color\n",
    "    \n",
    "# Objects of Dog class\n",
    "Rodger = Dog(\"Pug\", \"brown\")\n",
    "Buzo = Dog(\"Bulldog\", \"black\")\n",
    "\n",
    "print('Rodger details:')\n",
    "print('Rodger is a', Rodger.animal)\n",
    "print('Breed: ', Rodger.breed)\n",
    "print('Color: ', Rodger.color)\n",
    "\n",
    "print('\\nBuzo details:')\n",
    "print('Buzo is a', Buzo.animal)\n",
    "print('Breed: ', Buzo.breed)\n",
    "print('Color: ', Buzo.color)\n",
    "\n",
    "# Class variables can be accessed using class\n",
    "# name also\n",
    "print(\"\\nAccessing class variable using class name\")\n",
    "print(Dog.animal)"
   ]
  },
  {
   "cell_type": "markdown",
   "metadata": {},
   "source": [
    "### Defining instance variable using the normal method."
   ]
  },
  {
   "cell_type": "code",
   "execution_count": 15,
   "metadata": {},
   "outputs": [
    {
     "name": "stdout",
     "output_type": "stream",
     "text": [
      "brown\n"
     ]
    }
   ],
   "source": [
    "# Python program to show that we can create\n",
    "# instance variables inside methods\n",
    "\n",
    "# Class for Dog\n",
    "class Dog:\n",
    "\n",
    "    # Class Variable\n",
    "    animal = 'dog'\n",
    "\n",
    "    # The init method or constructor\n",
    "    def __init__(self, breed):\n",
    "\n",
    "        # Instance Variable\n",
    "        self.breed = breed\n",
    "\n",
    "    # Adds an instance variable\n",
    "    def setColor(self, color):\n",
    "        self.color = color\n",
    "\n",
    "    # Retrieves instance variable\n",
    "    def getColor(self):\n",
    "        return self.color\n",
    "\n",
    "# Object instantiation\n",
    "Rodger = Dog(\"pug\")\n",
    "Rodger.setColor(\"brown\")\n",
    "print(Rodger.getColor())\n"
   ]
  },
  {
   "cell_type": "markdown",
   "metadata": {},
   "source": [
    "## Class Project I"
   ]
  },
  {
   "cell_type": "markdown",
   "metadata": {},
   "source": [
    "One of the key issue that have threatened organizations and institutions is that of logistics. To solve it, employers now use biometric softwares and computer vision enabled tools to verify identities of their employees and take attendance. Mrs. Jane runs a delivery business with 15 employees, but she would want a way to identify if a user is one of her employees, take attendance and assign a task to the employee for the day. \n",
    "\n",
    "Employees = \"Mary Evans\", \"Eyo Ishan\", \"Durojaiye Dare\", \"Adams Ali\", \"Andrew Ugwu\", \"Stella Mankinde\", \"Jane Akibo\", \"Ago James\", \"Michell Taiwo\", \"Abraham Jones\" , \"Nicole Anide\", \"Kosi Korso\", \"Adele Martins\", \"Emmanuel Ojo\", \"Ajayi Fatima\".\n",
    "\n",
    "Tasks = \"Loading\", \"Transporting\", \"Reveiwing Orders\", \"Customer Service\", \"Delivering Items\"\n",
    "\n",
    "Your mission, should you choose to accept it, is to develop a python GUI program using your knowledge in OOP (class and objects) that takes a user's name and check if he/she exists in the list of employees, take attendance for the day and assign a task to the employess … otherwise, you politely refuse access to the system.\n",
    "\n",
    "<b>Hint:</b>\n",
    "\n",
    "<ol><li>Build a class <b>Employee()</b> that has four methods in the class; <b>check_employee()</b>, <b>take_attendance()</b>, <b>assign_task()</b> and <b>refuse_access()</b>.</li><li>\n",
    "    You can <b>import random</b> module and use the <b>random.randint()</b> method to randomly select task from the list. </li></ol>\n"
   ]
  },
  {
   "cell_type": "code",
   "execution_count": 22,
   "metadata": {},
   "outputs": [],
   "source": [
    "import tkinter as tk\n",
    "from tkinter import messagebox\n",
    "import random\n",
    "\n",
    "class Employee:\n",
    "    def __init__(self, first, last, tasks, crew):\n",
    "        self.fullname = f\"{first.title()} {last.title()}\"\n",
    "        self.tasks = tasks\n",
    "        self.crew = crew\n",
    "    \n",
    "    def check_employee(self):\n",
    "        \n",
    "        for c in self.crew.keys():\n",
    "            if self.fullname == c:\n",
    "                self.inside = True\n",
    "                break\n",
    "            else:\n",
    "                self.inside = False\n",
    "    \n",
    "    def take_attendance(self):\n",
    "        self.crew[self.fullname][0] += 1\n",
    "    \n",
    "    def assign_task(self):\n",
    "        task_index = random.randint(0,len(self.tasks)-1)\n",
    "        task = self.tasks[task_index]\n",
    "        self.crew[self.fullname][1] = task\n",
    "    \n",
    "    def refuse_access(self):\n",
    "        prompt = f\"Sorry, the name - {self.fullname} - is not in our records!\"\n",
    "        return prompt\n",
    "    \n",
    "def submit():\n",
    "    first_name = fname_entry.get()\n",
    "    last_name = sname_entry.get()\n",
    "    \n",
    "    employee = Employee(first_name, last_name, tasks, employees)\n",
    "    \n",
    "    employee.check_employee()\n",
    "    \n",
    "    if employee.inside == True:\n",
    "        employee.take_attendance()\n",
    "        employee.assign_task()\n",
    "        \n",
    "        msg = f\"{employee.fullname} has checked in for today\\n\"\n",
    "        msg += f\"Attendance: {employee.crew[employee.fullname][0]}\\n\"\n",
    "        msg += f\"\\n{employee.fullname} has been given the assignment: {employee.crew[employee.fullname][1]}\"\n",
    "        messagebox.showinfo(title=\"Employee Assignment\", message=msg)\n",
    "    else:\n",
    "        messagebox.showerror(title=\"Employee Assignment\", message=employee.refuse_access())\n",
    "        \n",
    "\n",
    "employees = {\"Mary Evans\": [0,\"\"], \"Eyo Ishan\": [0,\"\"], \"Durojaiye Dare\": [0,\"\"], \"Adams Ali\": [0,\"\"], \"Stella Mankinde\": [0,\"\"],\n",
    "             \"Jane Akibo\": [0,\"\"], \"Ago James\": [0,\"\"], \"Michelle Taiwo\": [0,\"\"], \"Abraham Jones\": [0,\"\"], \"Nicole Anide\": [0,\"\"],\n",
    "             \"Kosi Korso\": [0,\"\"], \"Adele Martins\": [0,\"\"], \"Emmanuel Ojo\": [0,\"\"], \"Ajayi Fatima\": [0,\"\"]}\n",
    "\n",
    "tasks = [\"Loading\", \"Transporting\", \"Reviewing Orders\", \"Customer Service\", \"Delivering Items\"]\n",
    "\n",
    "root = tk.Tk()\n",
    "root.title(\"Jane's Deliveries\")\n",
    "root.geometry(\"300x100\")\n",
    "\n",
    "fname_label = tk.Label(root, text=\"First Name\")\n",
    "fname_label.grid(row=0, column=0, padx=5, pady=5)\n",
    "fname_entry = tk.Entry(root)\n",
    "fname_entry.grid(row=0, column=1, padx=5, pady=5)\n",
    "\n",
    "sname_label = tk.Label(root, text=\"Last Name\")\n",
    "sname_label.grid(row=1, column=0, padx=5, pady=5)\n",
    "sname_entry = tk.Entry(root)\n",
    "sname_entry.grid(row=1, column=1, padx=5, pady=5)\n",
    "\n",
    "submit_button = tk.Button(root, text=\"Submit\", command=submit, padx=5, pady=5, font=(\"Helvetica\", 9, \"bold italic underline\"))\n",
    "submit_button.grid(row=2, column=1)\n",
    "\n",
    "root.mainloop()"
   ]
  },
  {
   "cell_type": "markdown",
   "metadata": {},
   "source": [
    "## Class Project II"
   ]
  },
  {
   "cell_type": "markdown",
   "metadata": {},
   "source": [
    "You run a delivery service, and charge people based on their location and weight of their package. The following are some of the things you consider.\n",
    "\n",
    "You charge N2000, whenever you are delivering a package with weight of 10kg and above to PAU, and N1500 when it is less.\n",
    "However, you charge N5000 whenever you deliver to Epe, a package with weight of 10kg and above, and N4000 when it is less.\n",
    "\n",
    "Develop the python GUI program using your knowledge in OOP, that tells a user how much to pay, based on their location, and package weight. \n",
    "\n"
   ]
  },
  {
   "cell_type": "code",
   "execution_count": 62,
   "metadata": {},
   "outputs": [],
   "source": [
    "import tkinter as tk\n",
    "from tkinter import messagebox, ttk\n",
    "\n",
    "class Package:\n",
    "    def __init__(self, location, weight):\n",
    "        self.location = location\n",
    "        self.weight = weight\n",
    "    \n",
    "    def check_details(self):\n",
    "        if self.location == \"PAU\":\n",
    "            if self.weight >= 10:\n",
    "                self.charge = 2000\n",
    "            else:\n",
    "                self.charge = 1500\n",
    "        elif self.location == \"Epe\":\n",
    "            if self.weight >= 10:\n",
    "                self.charge = 5000\n",
    "            else:\n",
    "                self.charge = 4000\n",
    "\n",
    "def submit():\n",
    "    name = name_entry.get()\n",
    "    location = locat_entry.get()\n",
    "    weight = int(weight_entry.get())\n",
    "    \n",
    "    order = Package(location, weight)\n",
    "    order.check_details()\n",
    "    \n",
    "    prompt = f\"Dear {name.title()}, that will cost you N{order.charge}\"\n",
    "    \n",
    "    messagebox.showinfo(title=\"Juzo's Deliveries - Order\", message=prompt)\n",
    "\n",
    "locations = [\"PAU\", \"Epe\"]\n",
    "\n",
    "root = tk.Tk()\n",
    "root.geometry(\"500x200\")\n",
    "root.title(\"Juzo's Deliveries (Remastered)\")\n",
    "\n",
    "name_label = tk.Label(root, text=\"Name:\", font=(\"Comic Sans MS\", 10, \"bold\"))\n",
    "name_label.grid(row=0, column=0, padx=5, pady=15)\n",
    "name_entry = tk.Entry(root, width=23)\n",
    "name_entry.grid(row=0, column=1, padx=5, pady=5)\n",
    "\n",
    "locat_label = tk.Label(root, text=\"Location:\", font=(\"Comic Sans MS\", 10, \"bold\"))\n",
    "locat_label.grid(row=1, column=0, padx=5, pady=5)\n",
    "locat_entry = ttk.Combobox(root, values=locations, state='readonly')\n",
    "locat_entry.set(\"Pick a location\")\n",
    "locat_entry.grid(row=1, column=1, padx=5, pady=5)\n",
    "\n",
    "weight_label = tk.Label(root, text=\"Weight (in kg):\", font=(\"Comic Sans MS\", 10, \"bold\"))\n",
    "weight_label.grid(row=2, column=0, padx=5, pady=15)\n",
    "weight_entry = tk.Entry(root, width=5)\n",
    "weight_entry.place(x=120, y=108)\n",
    "\n",
    "submit_button = tk.Button(root, command=submit, text=\"Submit\", padx=1, pady=1)\n",
    "submit_button.place(x=220, y=150)\n",
    "\n",
    "root.mainloop()"
   ]
  }
 ],
 "metadata": {
  "kernelspec": {
   "display_name": "Python 3",
   "language": "python",
   "name": "python3"
  },
  "language_info": {
   "codemirror_mode": {
    "name": "ipython",
    "version": 3
   },
   "file_extension": ".py",
   "mimetype": "text/x-python",
   "name": "python",
   "nbconvert_exporter": "python",
   "pygments_lexer": "ipython3",
   "version": "3.12.0"
  }
 },
 "nbformat": 4,
 "nbformat_minor": 4
}
