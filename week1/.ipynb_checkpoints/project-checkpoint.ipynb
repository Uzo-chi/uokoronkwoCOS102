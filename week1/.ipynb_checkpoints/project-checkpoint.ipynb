{
 "cells": [
  {
   "cell_type": "code",
   "execution_count": null,
   "id": "c023db4e-9af5-45dd-bc32-904e074e0e23",
   "metadata": {
    "scrolled": true
   },
   "outputs": [],
   "source": [
    "# Simple Interest Calculator\n",
    "p = int(input(\"Enter the principal: \"))\n",
    "r = int(input(\"Enter the interest rate: \"))\n",
    "t = int(input(\"Enter the time (in years): \"))\n",
    "\n",
    "a = p * (1 + ((r/100)*t))\n",
    "\n",
    "print(\"The amount is\", a)"
   ]
  },
  {
   "cell_type": "code",
   "execution_count": null,
   "id": "3d65e1d7-6093-4cce-b956-0b84cd0a52a4",
   "metadata": {},
   "outputs": [],
   "source": [
    "# Compound Interest Calculator\n",
    "p = int(input(\"Enter the principal: \"))\n",
    "r = int(input(\"Enter the rate: \"))\n",
    "t = int(input(\"Enter the time (in years): \"))\n",
    "n = int(input(\"Enter the number of times interest is compounded in a year: \"))\n",
    "\n",
    "a = p * ((1 + (r/n)) ** (n * t))\n",
    "\n",
    "print(\"The amount is\", a)"
   ]
  },
  {
   "cell_type": "code",
   "execution_count": null,
   "id": "0c097780-d324-4266-ac59-41e2c09c5a93",
   "metadata": {},
   "outputs": [],
   "source": [
    "# Annuity Plan Calculator\n",
    "pmt = int(input(\"Enter the cash payment per period: \"))\n",
    "r = int(input(\"Enter the interest rate: \"))\n",
    "t = int(input(\"Enter the time (in years): \"))\n",
    "n = int(input(\"Enter the number of times interest is compounded in a year: \"))\n",
    "\n",
    "a = pmt * ((((1 + (r/n))**(n*t))-1) / (r/n))\n",
    "\n",
    "print(\"The amount is\", a)"
   ]
  }
 ],
 "metadata": {
  "kernelspec": {
   "display_name": "Python 3 (ipykernel)",
   "language": "python",
   "name": "python3"
  },
  "language_info": {
   "codemirror_mode": {
    "name": "ipython",
    "version": 3
   },
   "file_extension": ".py",
   "mimetype": "text/x-python",
   "name": "python",
   "nbconvert_exporter": "python",
   "pygments_lexer": "ipython3",
   "version": "3.11.7"
  }
 },
 "nbformat": 4,
 "nbformat_minor": 5
}
